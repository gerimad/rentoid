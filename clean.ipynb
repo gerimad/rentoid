{
 "cells": [
  {
   "cell_type": "code",
   "execution_count": 1,
   "metadata": {},
   "outputs": [],
   "source": [
    "import pandas as pd"
   ]
  },
  {
   "cell_type": "code",
   "execution_count": 2,
   "metadata": {},
   "outputs": [],
   "source": [
    "df = pd.read_csv('db.csv')"
   ]
  },
  {
   "cell_type": "code",
   "execution_count": 4,
   "metadata": {},
   "outputs": [
    {
     "data": {
      "text/html": [
       "<div>\n",
       "<style scoped>\n",
       "    .dataframe tbody tr th:only-of-type {\n",
       "        vertical-align: middle;\n",
       "    }\n",
       "\n",
       "    .dataframe tbody tr th {\n",
       "        vertical-align: top;\n",
       "    }\n",
       "\n",
       "    .dataframe thead th {\n",
       "        text-align: right;\n",
       "    }\n",
       "</style>\n",
       "<table border=\"1\" class=\"dataframe\">\n",
       "  <thead>\n",
       "    <tr style=\"text-align: right;\">\n",
       "      <th></th>\n",
       "      <th>Unnamed: 0</th>\n",
       "      <th>price</th>\n",
       "      <th>location</th>\n",
       "      <th>sqm</th>\n",
       "      <th>extra</th>\n",
       "      <th>text</th>\n",
       "      <th>link</th>\n",
       "    </tr>\n",
       "  </thead>\n",
       "  <tbody>\n",
       "    <tr>\n",
       "      <th>0</th>\n",
       "      <td>0</td>\n",
       "      <td>330 000</td>\n",
       "      <td>Cházár András utca Budapest, XIV. kerület</td>\n",
       "      <td>3 szoba, 58 m2</td>\n",
       "      <td>{'Épület típusa': 'Lakás', 'Közös költség': '1...</td>\n",
       "      <td>\\nRészletek\\nXIV. kerületben a Cházár András u...</td>\n",
       "      <td>https://www.alberlet.hu/kiado_alberlet/budapes...</td>\n",
       "    </tr>\n",
       "    <tr>\n",
       "      <th>1</th>\n",
       "      <td>1</td>\n",
       "      <td>986 000</td>\n",
       "      <td>Nagymező utca Budapest, VI. kerület</td>\n",
       "      <td>3 szoba, 97 m2</td>\n",
       "      <td>{'Épület típusa': 'Lakás', 'Közös költség': '1...</td>\n",
       "      <td>\\nRészletek\\nThe 91 sqm apartment consists of ...</td>\n",
       "      <td>https://www.alberlet.hu/kiado_alberlet/budapes...</td>\n",
       "    </tr>\n",
       "    <tr>\n",
       "      <th>2</th>\n",
       "      <td>2</td>\n",
       "      <td>651 000</td>\n",
       "      <td>Lovas út Budapest, I. kerület</td>\n",
       "      <td>3 szoba, 82 m2</td>\n",
       "      <td>{'Épület típusa': 'Lakás', 'Közös költség': '1...</td>\n",
       "      <td>\\nLakás jellemzők: Külön WC, Zuhanyzó Részlete...</td>\n",
       "      <td>https://www.alberlet.hu/kiado_alberlet/budapes...</td>\n",
       "    </tr>\n",
       "    <tr>\n",
       "      <th>3</th>\n",
       "      <td>3</td>\n",
       "      <td>1 183 000</td>\n",
       "      <td>Falk Miksa utca Budapest, V. kerület</td>\n",
       "      <td>2 szoba, 105 m2</td>\n",
       "      <td>{'Épület típusa': 'Lakás', 'Városrész': 'Lipót...</td>\n",
       "      <td>\\nLakás jellemzők: Design bútorok Részletek\\nK...</td>\n",
       "      <td>https://www.alberlet.hu/kiado_alberlet/budapes...</td>\n",
       "    </tr>\n",
       "    <tr>\n",
       "      <th>4</th>\n",
       "      <td>4</td>\n",
       "      <td>180 000</td>\n",
       "      <td>Eötvös utca Budapest, VI. kerület</td>\n",
       "      <td>1 szoba + 1 félszoba, 41 m2</td>\n",
       "      <td>{'Épület típusa': 'Lakás', 'Városrész': 'Külső...</td>\n",
       "      <td>\\nLakás jellemzők: Fürdőkád Részletek\\nVI. ker...</td>\n",
       "      <td>https://www.alberlet.hu/kiado_alberlet/budapes...</td>\n",
       "    </tr>\n",
       "  </tbody>\n",
       "</table>\n",
       "</div>"
      ],
      "text/plain": [
       "   Unnamed: 0      price                                   location  \\\n",
       "0           0    330 000  Cházár András utca Budapest, XIV. kerület   \n",
       "1           1    986 000        Nagymező utca Budapest, VI. kerület   \n",
       "2           2    651 000              Lovas út Budapest, I. kerület   \n",
       "3           3  1 183 000       Falk Miksa utca Budapest, V. kerület   \n",
       "4           4    180 000          Eötvös utca Budapest, VI. kerület   \n",
       "\n",
       "                           sqm  \\\n",
       "0               3 szoba, 58 m2   \n",
       "1               3 szoba, 97 m2   \n",
       "2               3 szoba, 82 m2   \n",
       "3              2 szoba, 105 m2   \n",
       "4  1 szoba + 1 félszoba, 41 m2   \n",
       "\n",
       "                                               extra  \\\n",
       "0  {'Épület típusa': 'Lakás', 'Közös költség': '1...   \n",
       "1  {'Épület típusa': 'Lakás', 'Közös költség': '1...   \n",
       "2  {'Épület típusa': 'Lakás', 'Közös költség': '1...   \n",
       "3  {'Épület típusa': 'Lakás', 'Városrész': 'Lipót...   \n",
       "4  {'Épület típusa': 'Lakás', 'Városrész': 'Külső...   \n",
       "\n",
       "                                                text  \\\n",
       "0  \\nRészletek\\nXIV. kerületben a Cházár András u...   \n",
       "1  \\nRészletek\\nThe 91 sqm apartment consists of ...   \n",
       "2  \\nLakás jellemzők: Külön WC, Zuhanyzó Részlete...   \n",
       "3  \\nLakás jellemzők: Design bútorok Részletek\\nK...   \n",
       "4  \\nLakás jellemzők: Fürdőkád Részletek\\nVI. ker...   \n",
       "\n",
       "                                                link  \n",
       "0  https://www.alberlet.hu/kiado_alberlet/budapes...  \n",
       "1  https://www.alberlet.hu/kiado_alberlet/budapes...  \n",
       "2  https://www.alberlet.hu/kiado_alberlet/budapes...  \n",
       "3  https://www.alberlet.hu/kiado_alberlet/budapes...  \n",
       "4  https://www.alberlet.hu/kiado_alberlet/budapes...  "
      ]
     },
     "execution_count": 4,
     "metadata": {},
     "output_type": "execute_result"
    }
   ],
   "source": [
    "df.head()"
   ]
  },
  {
   "cell_type": "code",
   "execution_count": 5,
   "metadata": {},
   "outputs": [
    {
     "name": "stdout",
     "output_type": "stream",
     "text": [
      "<class 'pandas.core.frame.DataFrame'>\n",
      "RangeIndex: 1214 entries, 0 to 1213\n",
      "Data columns (total 7 columns):\n",
      " #   Column      Non-Null Count  Dtype \n",
      "---  ------      --------------  ----- \n",
      " 0   Unnamed: 0  1214 non-null   int64 \n",
      " 1   price       1214 non-null   object\n",
      " 2   location    1214 non-null   object\n",
      " 3   sqm         1214 non-null   object\n",
      " 4   extra       1214 non-null   object\n",
      " 5   text        1214 non-null   object\n",
      " 6   link        1214 non-null   object\n",
      "dtypes: int64(1), object(6)\n",
      "memory usage: 66.5+ KB\n"
     ]
    }
   ],
   "source": [
    "df.info()"
   ]
  },
  {
   "cell_type": "code",
   "execution_count": 9,
   "metadata": {},
   "outputs": [],
   "source": [
    "df['price'] = df['price'].apply(lambda x: int(x.replace(' ', '')))"
   ]
  },
  {
   "cell_type": "code",
   "execution_count": 10,
   "metadata": {},
   "outputs": [
    {
     "name": "stdout",
     "output_type": "stream",
     "text": [
      "<class 'pandas.core.frame.DataFrame'>\n",
      "RangeIndex: 1214 entries, 0 to 1213\n",
      "Data columns (total 7 columns):\n",
      " #   Column      Non-Null Count  Dtype \n",
      "---  ------      --------------  ----- \n",
      " 0   Unnamed: 0  1214 non-null   int64 \n",
      " 1   price       1214 non-null   int64 \n",
      " 2   location    1214 non-null   object\n",
      " 3   sqm         1214 non-null   object\n",
      " 4   extra       1214 non-null   object\n",
      " 5   text        1214 non-null   object\n",
      " 6   link        1214 non-null   object\n",
      "dtypes: int64(2), object(5)\n",
      "memory usage: 66.5+ KB\n"
     ]
    }
   ],
   "source": [
    "df.info()"
   ]
  },
  {
   "cell_type": "code",
   "execution_count": 11,
   "metadata": {},
   "outputs": [
    {
     "data": {
      "text/html": [
       "<div>\n",
       "<style scoped>\n",
       "    .dataframe tbody tr th:only-of-type {\n",
       "        vertical-align: middle;\n",
       "    }\n",
       "\n",
       "    .dataframe tbody tr th {\n",
       "        vertical-align: top;\n",
       "    }\n",
       "\n",
       "    .dataframe thead th {\n",
       "        text-align: right;\n",
       "    }\n",
       "</style>\n",
       "<table border=\"1\" class=\"dataframe\">\n",
       "  <thead>\n",
       "    <tr style=\"text-align: right;\">\n",
       "      <th></th>\n",
       "      <th>Unnamed: 0</th>\n",
       "      <th>price</th>\n",
       "      <th>location</th>\n",
       "      <th>sqm</th>\n",
       "      <th>extra</th>\n",
       "      <th>text</th>\n",
       "      <th>link</th>\n",
       "    </tr>\n",
       "  </thead>\n",
       "  <tbody>\n",
       "    <tr>\n",
       "      <th>0</th>\n",
       "      <td>0</td>\n",
       "      <td>330000</td>\n",
       "      <td>Cházár András utca Budapest, XIV. kerület</td>\n",
       "      <td>3 szoba, 58 m2</td>\n",
       "      <td>{'Épület típusa': 'Lakás', 'Közös költség': '1...</td>\n",
       "      <td>\\nRészletek\\nXIV. kerületben a Cházár András u...</td>\n",
       "      <td>https://www.alberlet.hu/kiado_alberlet/budapes...</td>\n",
       "    </tr>\n",
       "    <tr>\n",
       "      <th>1</th>\n",
       "      <td>1</td>\n",
       "      <td>986000</td>\n",
       "      <td>Nagymező utca Budapest, VI. kerület</td>\n",
       "      <td>3 szoba, 97 m2</td>\n",
       "      <td>{'Épület típusa': 'Lakás', 'Közös költség': '1...</td>\n",
       "      <td>\\nRészletek\\nThe 91 sqm apartment consists of ...</td>\n",
       "      <td>https://www.alberlet.hu/kiado_alberlet/budapes...</td>\n",
       "    </tr>\n",
       "    <tr>\n",
       "      <th>2</th>\n",
       "      <td>2</td>\n",
       "      <td>651000</td>\n",
       "      <td>Lovas út Budapest, I. kerület</td>\n",
       "      <td>3 szoba, 82 m2</td>\n",
       "      <td>{'Épület típusa': 'Lakás', 'Közös költség': '1...</td>\n",
       "      <td>\\nLakás jellemzők: Külön WC, Zuhanyzó Részlete...</td>\n",
       "      <td>https://www.alberlet.hu/kiado_alberlet/budapes...</td>\n",
       "    </tr>\n",
       "    <tr>\n",
       "      <th>3</th>\n",
       "      <td>3</td>\n",
       "      <td>1183000</td>\n",
       "      <td>Falk Miksa utca Budapest, V. kerület</td>\n",
       "      <td>2 szoba, 105 m2</td>\n",
       "      <td>{'Épület típusa': 'Lakás', 'Városrész': 'Lipót...</td>\n",
       "      <td>\\nLakás jellemzők: Design bútorok Részletek\\nK...</td>\n",
       "      <td>https://www.alberlet.hu/kiado_alberlet/budapes...</td>\n",
       "    </tr>\n",
       "    <tr>\n",
       "      <th>4</th>\n",
       "      <td>4</td>\n",
       "      <td>180000</td>\n",
       "      <td>Eötvös utca Budapest, VI. kerület</td>\n",
       "      <td>1 szoba + 1 félszoba, 41 m2</td>\n",
       "      <td>{'Épület típusa': 'Lakás', 'Városrész': 'Külső...</td>\n",
       "      <td>\\nLakás jellemzők: Fürdőkád Részletek\\nVI. ker...</td>\n",
       "      <td>https://www.alberlet.hu/kiado_alberlet/budapes...</td>\n",
       "    </tr>\n",
       "  </tbody>\n",
       "</table>\n",
       "</div>"
      ],
      "text/plain": [
       "   Unnamed: 0    price                                   location  \\\n",
       "0           0   330000  Cházár András utca Budapest, XIV. kerület   \n",
       "1           1   986000        Nagymező utca Budapest, VI. kerület   \n",
       "2           2   651000              Lovas út Budapest, I. kerület   \n",
       "3           3  1183000       Falk Miksa utca Budapest, V. kerület   \n",
       "4           4   180000          Eötvös utca Budapest, VI. kerület   \n",
       "\n",
       "                           sqm  \\\n",
       "0               3 szoba, 58 m2   \n",
       "1               3 szoba, 97 m2   \n",
       "2               3 szoba, 82 m2   \n",
       "3              2 szoba, 105 m2   \n",
       "4  1 szoba + 1 félszoba, 41 m2   \n",
       "\n",
       "                                               extra  \\\n",
       "0  {'Épület típusa': 'Lakás', 'Közös költség': '1...   \n",
       "1  {'Épület típusa': 'Lakás', 'Közös költség': '1...   \n",
       "2  {'Épület típusa': 'Lakás', 'Közös költség': '1...   \n",
       "3  {'Épület típusa': 'Lakás', 'Városrész': 'Lipót...   \n",
       "4  {'Épület típusa': 'Lakás', 'Városrész': 'Külső...   \n",
       "\n",
       "                                                text  \\\n",
       "0  \\nRészletek\\nXIV. kerületben a Cházár András u...   \n",
       "1  \\nRészletek\\nThe 91 sqm apartment consists of ...   \n",
       "2  \\nLakás jellemzők: Külön WC, Zuhanyzó Részlete...   \n",
       "3  \\nLakás jellemzők: Design bútorok Részletek\\nK...   \n",
       "4  \\nLakás jellemzők: Fürdőkád Részletek\\nVI. ker...   \n",
       "\n",
       "                                                link  \n",
       "0  https://www.alberlet.hu/kiado_alberlet/budapes...  \n",
       "1  https://www.alberlet.hu/kiado_alberlet/budapes...  \n",
       "2  https://www.alberlet.hu/kiado_alberlet/budapes...  \n",
       "3  https://www.alberlet.hu/kiado_alberlet/budapes...  \n",
       "4  https://www.alberlet.hu/kiado_alberlet/budapes...  "
      ]
     },
     "execution_count": 11,
     "metadata": {},
     "output_type": "execute_result"
    }
   ],
   "source": [
    "df.head()\n"
   ]
  },
  {
   "cell_type": "code",
   "execution_count": 19,
   "metadata": {},
   "outputs": [
    {
     "name": "stdout",
     "output_type": "stream",
     "text": [
      "337\n",
      "0\n"
     ]
    }
   ],
   "source": [
    "area_descriptions = df['sqm'].unique()\n",
    "print(len(area_descriptions))\n",
    "count = 0\n",
    "for i, x in enumerate(area_descriptions):\n",
    "    if 'm2' not in x:\n",
    "        count +=1 \n",
    "print(count)"
   ]
  },
  {
   "cell_type": "code",
   "execution_count": 37,
   "metadata": {},
   "outputs": [],
   "source": [
    "def sqm_splitting(s):\n",
    "    parts = s.split(',')\n",
    "    assert len(parts) == 2\n",
    "\n",
    "    rooms = parts[0]\n",
    "    sqm = parts[1]\n",
    "\n",
    "    assert 'm2' in sqm\n",
    "    assert 'szoba' in rooms\n",
    "\n",
    "    import re\n",
    "    sqm_pattern = r'\\b\\d+\\b'\n",
    "    true_sqm = int(re.findall(sqm_pattern, sqm)[0])\n",
    "\n",
    "    szoba_pattern = r'(\\b\\d+)\\s*szoba'\n",
    "    szoba_count = int(re.findall(szoba_pattern, rooms)[0])\n",
    "\n",
    "    felszoba_count = 0\n",
    "    if 'félszoba' in rooms:\n",
    "        felszoba_pattern = r'(\\b\\d+)\\s*félszoba'\n",
    "        felszoba_count = int(re.findall(felszoba_pattern, rooms)[0])\n",
    "    \n",
    "    true_rooms = szoba_count  + 0.5 * felszoba_count\n",
    "\n",
    "    return true_sqm, true_rooms\n",
    "\n",
    "\n",
    "\n",
    "\n",
    "\n",
    "\n",
    "\n"
   ]
  },
  {
   "cell_type": "code",
   "execution_count": 38,
   "metadata": {},
   "outputs": [
    {
     "data": {
      "text/plain": [
       "(41, 1.5)"
      ]
     },
     "execution_count": 38,
     "metadata": {},
     "output_type": "execute_result"
    }
   ],
   "source": [
    "sqm_splitting('1 szoba + 1 félszoba, 41 m2')"
   ]
  },
  {
   "cell_type": "code",
   "execution_count": 39,
   "metadata": {},
   "outputs": [
    {
     "data": {
      "text/plain": [
       "(97, 3.0)"
      ]
     },
     "execution_count": 39,
     "metadata": {},
     "output_type": "execute_result"
    }
   ],
   "source": [
    "sqm_splitting('3 szoba, 97 m2')"
   ]
  },
  {
   "cell_type": "code",
   "execution_count": 40,
   "metadata": {},
   "outputs": [],
   "source": [
    "df['rooms'] = df['sqm'].apply(lambda row: sqm_splitting(row)[1])"
   ]
  },
  {
   "cell_type": "code",
   "execution_count": 41,
   "metadata": {},
   "outputs": [
    {
     "data": {
      "text/html": [
       "<div>\n",
       "<style scoped>\n",
       "    .dataframe tbody tr th:only-of-type {\n",
       "        vertical-align: middle;\n",
       "    }\n",
       "\n",
       "    .dataframe tbody tr th {\n",
       "        vertical-align: top;\n",
       "    }\n",
       "\n",
       "    .dataframe thead th {\n",
       "        text-align: right;\n",
       "    }\n",
       "</style>\n",
       "<table border=\"1\" class=\"dataframe\">\n",
       "  <thead>\n",
       "    <tr style=\"text-align: right;\">\n",
       "      <th></th>\n",
       "      <th>Unnamed: 0</th>\n",
       "      <th>price</th>\n",
       "      <th>location</th>\n",
       "      <th>sqm</th>\n",
       "      <th>extra</th>\n",
       "      <th>text</th>\n",
       "      <th>link</th>\n",
       "      <th>rooms</th>\n",
       "    </tr>\n",
       "  </thead>\n",
       "  <tbody>\n",
       "    <tr>\n",
       "      <th>0</th>\n",
       "      <td>0</td>\n",
       "      <td>330000</td>\n",
       "      <td>Cházár András utca Budapest, XIV. kerület</td>\n",
       "      <td>3 szoba, 58 m2</td>\n",
       "      <td>{'Épület típusa': 'Lakás', 'Közös költség': '1...</td>\n",
       "      <td>\\nRészletek\\nXIV. kerületben a Cházár András u...</td>\n",
       "      <td>https://www.alberlet.hu/kiado_alberlet/budapes...</td>\n",
       "      <td>3.0</td>\n",
       "    </tr>\n",
       "    <tr>\n",
       "      <th>1</th>\n",
       "      <td>1</td>\n",
       "      <td>986000</td>\n",
       "      <td>Nagymező utca Budapest, VI. kerület</td>\n",
       "      <td>3 szoba, 97 m2</td>\n",
       "      <td>{'Épület típusa': 'Lakás', 'Közös költség': '1...</td>\n",
       "      <td>\\nRészletek\\nThe 91 sqm apartment consists of ...</td>\n",
       "      <td>https://www.alberlet.hu/kiado_alberlet/budapes...</td>\n",
       "      <td>3.0</td>\n",
       "    </tr>\n",
       "    <tr>\n",
       "      <th>2</th>\n",
       "      <td>2</td>\n",
       "      <td>651000</td>\n",
       "      <td>Lovas út Budapest, I. kerület</td>\n",
       "      <td>3 szoba, 82 m2</td>\n",
       "      <td>{'Épület típusa': 'Lakás', 'Közös költség': '1...</td>\n",
       "      <td>\\nLakás jellemzők: Külön WC, Zuhanyzó Részlete...</td>\n",
       "      <td>https://www.alberlet.hu/kiado_alberlet/budapes...</td>\n",
       "      <td>3.0</td>\n",
       "    </tr>\n",
       "    <tr>\n",
       "      <th>3</th>\n",
       "      <td>3</td>\n",
       "      <td>1183000</td>\n",
       "      <td>Falk Miksa utca Budapest, V. kerület</td>\n",
       "      <td>2 szoba, 105 m2</td>\n",
       "      <td>{'Épület típusa': 'Lakás', 'Városrész': 'Lipót...</td>\n",
       "      <td>\\nLakás jellemzők: Design bútorok Részletek\\nK...</td>\n",
       "      <td>https://www.alberlet.hu/kiado_alberlet/budapes...</td>\n",
       "      <td>2.0</td>\n",
       "    </tr>\n",
       "    <tr>\n",
       "      <th>4</th>\n",
       "      <td>4</td>\n",
       "      <td>180000</td>\n",
       "      <td>Eötvös utca Budapest, VI. kerület</td>\n",
       "      <td>1 szoba + 1 félszoba, 41 m2</td>\n",
       "      <td>{'Épület típusa': 'Lakás', 'Városrész': 'Külső...</td>\n",
       "      <td>\\nLakás jellemzők: Fürdőkád Részletek\\nVI. ker...</td>\n",
       "      <td>https://www.alberlet.hu/kiado_alberlet/budapes...</td>\n",
       "      <td>1.5</td>\n",
       "    </tr>\n",
       "  </tbody>\n",
       "</table>\n",
       "</div>"
      ],
      "text/plain": [
       "   Unnamed: 0    price                                   location  \\\n",
       "0           0   330000  Cházár András utca Budapest, XIV. kerület   \n",
       "1           1   986000        Nagymező utca Budapest, VI. kerület   \n",
       "2           2   651000              Lovas út Budapest, I. kerület   \n",
       "3           3  1183000       Falk Miksa utca Budapest, V. kerület   \n",
       "4           4   180000          Eötvös utca Budapest, VI. kerület   \n",
       "\n",
       "                           sqm  \\\n",
       "0               3 szoba, 58 m2   \n",
       "1               3 szoba, 97 m2   \n",
       "2               3 szoba, 82 m2   \n",
       "3              2 szoba, 105 m2   \n",
       "4  1 szoba + 1 félszoba, 41 m2   \n",
       "\n",
       "                                               extra  \\\n",
       "0  {'Épület típusa': 'Lakás', 'Közös költség': '1...   \n",
       "1  {'Épület típusa': 'Lakás', 'Közös költség': '1...   \n",
       "2  {'Épület típusa': 'Lakás', 'Közös költség': '1...   \n",
       "3  {'Épület típusa': 'Lakás', 'Városrész': 'Lipót...   \n",
       "4  {'Épület típusa': 'Lakás', 'Városrész': 'Külső...   \n",
       "\n",
       "                                                text  \\\n",
       "0  \\nRészletek\\nXIV. kerületben a Cházár András u...   \n",
       "1  \\nRészletek\\nThe 91 sqm apartment consists of ...   \n",
       "2  \\nLakás jellemzők: Külön WC, Zuhanyzó Részlete...   \n",
       "3  \\nLakás jellemzők: Design bútorok Részletek\\nK...   \n",
       "4  \\nLakás jellemzők: Fürdőkád Részletek\\nVI. ker...   \n",
       "\n",
       "                                                link  rooms  \n",
       "0  https://www.alberlet.hu/kiado_alberlet/budapes...    3.0  \n",
       "1  https://www.alberlet.hu/kiado_alberlet/budapes...    3.0  \n",
       "2  https://www.alberlet.hu/kiado_alberlet/budapes...    3.0  \n",
       "3  https://www.alberlet.hu/kiado_alberlet/budapes...    2.0  \n",
       "4  https://www.alberlet.hu/kiado_alberlet/budapes...    1.5  "
      ]
     },
     "execution_count": 41,
     "metadata": {},
     "output_type": "execute_result"
    }
   ],
   "source": [
    "df.head()"
   ]
  },
  {
   "cell_type": "code",
   "execution_count": 42,
   "metadata": {},
   "outputs": [],
   "source": [
    "df['sqm'] = df['sqm'].apply(lambda row: sqm_splitting(row)[0])"
   ]
  },
  {
   "cell_type": "code",
   "execution_count": 43,
   "metadata": {},
   "outputs": [
    {
     "data": {
      "text/html": [
       "<div>\n",
       "<style scoped>\n",
       "    .dataframe tbody tr th:only-of-type {\n",
       "        vertical-align: middle;\n",
       "    }\n",
       "\n",
       "    .dataframe tbody tr th {\n",
       "        vertical-align: top;\n",
       "    }\n",
       "\n",
       "    .dataframe thead th {\n",
       "        text-align: right;\n",
       "    }\n",
       "</style>\n",
       "<table border=\"1\" class=\"dataframe\">\n",
       "  <thead>\n",
       "    <tr style=\"text-align: right;\">\n",
       "      <th></th>\n",
       "      <th>Unnamed: 0</th>\n",
       "      <th>price</th>\n",
       "      <th>location</th>\n",
       "      <th>sqm</th>\n",
       "      <th>extra</th>\n",
       "      <th>text</th>\n",
       "      <th>link</th>\n",
       "      <th>rooms</th>\n",
       "    </tr>\n",
       "  </thead>\n",
       "  <tbody>\n",
       "    <tr>\n",
       "      <th>0</th>\n",
       "      <td>0</td>\n",
       "      <td>330000</td>\n",
       "      <td>Cházár András utca Budapest, XIV. kerület</td>\n",
       "      <td>58</td>\n",
       "      <td>{'Épület típusa': 'Lakás', 'Közös költség': '1...</td>\n",
       "      <td>\\nRészletek\\nXIV. kerületben a Cházár András u...</td>\n",
       "      <td>https://www.alberlet.hu/kiado_alberlet/budapes...</td>\n",
       "      <td>3.0</td>\n",
       "    </tr>\n",
       "    <tr>\n",
       "      <th>1</th>\n",
       "      <td>1</td>\n",
       "      <td>986000</td>\n",
       "      <td>Nagymező utca Budapest, VI. kerület</td>\n",
       "      <td>97</td>\n",
       "      <td>{'Épület típusa': 'Lakás', 'Közös költség': '1...</td>\n",
       "      <td>\\nRészletek\\nThe 91 sqm apartment consists of ...</td>\n",
       "      <td>https://www.alberlet.hu/kiado_alberlet/budapes...</td>\n",
       "      <td>3.0</td>\n",
       "    </tr>\n",
       "    <tr>\n",
       "      <th>2</th>\n",
       "      <td>2</td>\n",
       "      <td>651000</td>\n",
       "      <td>Lovas út Budapest, I. kerület</td>\n",
       "      <td>82</td>\n",
       "      <td>{'Épület típusa': 'Lakás', 'Közös költség': '1...</td>\n",
       "      <td>\\nLakás jellemzők: Külön WC, Zuhanyzó Részlete...</td>\n",
       "      <td>https://www.alberlet.hu/kiado_alberlet/budapes...</td>\n",
       "      <td>3.0</td>\n",
       "    </tr>\n",
       "    <tr>\n",
       "      <th>3</th>\n",
       "      <td>3</td>\n",
       "      <td>1183000</td>\n",
       "      <td>Falk Miksa utca Budapest, V. kerület</td>\n",
       "      <td>105</td>\n",
       "      <td>{'Épület típusa': 'Lakás', 'Városrész': 'Lipót...</td>\n",
       "      <td>\\nLakás jellemzők: Design bútorok Részletek\\nK...</td>\n",
       "      <td>https://www.alberlet.hu/kiado_alberlet/budapes...</td>\n",
       "      <td>2.0</td>\n",
       "    </tr>\n",
       "    <tr>\n",
       "      <th>4</th>\n",
       "      <td>4</td>\n",
       "      <td>180000</td>\n",
       "      <td>Eötvös utca Budapest, VI. kerület</td>\n",
       "      <td>41</td>\n",
       "      <td>{'Épület típusa': 'Lakás', 'Városrész': 'Külső...</td>\n",
       "      <td>\\nLakás jellemzők: Fürdőkád Részletek\\nVI. ker...</td>\n",
       "      <td>https://www.alberlet.hu/kiado_alberlet/budapes...</td>\n",
       "      <td>1.5</td>\n",
       "    </tr>\n",
       "  </tbody>\n",
       "</table>\n",
       "</div>"
      ],
      "text/plain": [
       "   Unnamed: 0    price                                   location  sqm  \\\n",
       "0           0   330000  Cházár András utca Budapest, XIV. kerület   58   \n",
       "1           1   986000        Nagymező utca Budapest, VI. kerület   97   \n",
       "2           2   651000              Lovas út Budapest, I. kerület   82   \n",
       "3           3  1183000       Falk Miksa utca Budapest, V. kerület  105   \n",
       "4           4   180000          Eötvös utca Budapest, VI. kerület   41   \n",
       "\n",
       "                                               extra  \\\n",
       "0  {'Épület típusa': 'Lakás', 'Közös költség': '1...   \n",
       "1  {'Épület típusa': 'Lakás', 'Közös költség': '1...   \n",
       "2  {'Épület típusa': 'Lakás', 'Közös költség': '1...   \n",
       "3  {'Épület típusa': 'Lakás', 'Városrész': 'Lipót...   \n",
       "4  {'Épület típusa': 'Lakás', 'Városrész': 'Külső...   \n",
       "\n",
       "                                                text  \\\n",
       "0  \\nRészletek\\nXIV. kerületben a Cházár András u...   \n",
       "1  \\nRészletek\\nThe 91 sqm apartment consists of ...   \n",
       "2  \\nLakás jellemzők: Külön WC, Zuhanyzó Részlete...   \n",
       "3  \\nLakás jellemzők: Design bútorok Részletek\\nK...   \n",
       "4  \\nLakás jellemzők: Fürdőkád Részletek\\nVI. ker...   \n",
       "\n",
       "                                                link  rooms  \n",
       "0  https://www.alberlet.hu/kiado_alberlet/budapes...    3.0  \n",
       "1  https://www.alberlet.hu/kiado_alberlet/budapes...    3.0  \n",
       "2  https://www.alberlet.hu/kiado_alberlet/budapes...    3.0  \n",
       "3  https://www.alberlet.hu/kiado_alberlet/budapes...    2.0  \n",
       "4  https://www.alberlet.hu/kiado_alberlet/budapes...    1.5  "
      ]
     },
     "execution_count": 43,
     "metadata": {},
     "output_type": "execute_result"
    }
   ],
   "source": [
    "df.head()"
   ]
  },
  {
   "cell_type": "code",
   "execution_count": 44,
   "metadata": {},
   "outputs": [
    {
     "name": "stdout",
     "output_type": "stream",
     "text": [
      "<class 'pandas.core.frame.DataFrame'>\n",
      "RangeIndex: 1214 entries, 0 to 1213\n",
      "Data columns (total 8 columns):\n",
      " #   Column      Non-Null Count  Dtype  \n",
      "---  ------      --------------  -----  \n",
      " 0   Unnamed: 0  1214 non-null   int64  \n",
      " 1   price       1214 non-null   int64  \n",
      " 2   location    1214 non-null   object \n",
      " 3   sqm         1214 non-null   int64  \n",
      " 4   extra       1214 non-null   object \n",
      " 5   text        1214 non-null   object \n",
      " 6   link        1214 non-null   object \n",
      " 7   rooms       1214 non-null   float64\n",
      "dtypes: float64(1), int64(3), object(4)\n",
      "memory usage: 76.0+ KB\n"
     ]
    }
   ],
   "source": [
    "df.info()"
   ]
  },
  {
   "cell_type": "code",
   "execution_count": 48,
   "metadata": {},
   "outputs": [
    {
     "name": "stdout",
     "output_type": "stream",
     "text": [
      "{'Hónapokra is', 'Gyermekbarát', 'Közös költségben', 'Diákoknak', 'Bérleti díj hónapokra', 'Városrész', 'Berendezés', 'Beköltözhető', 'Ház jellege', 'Ingatlan állapota', 'Építés éve', 'Konyhai szellőzés', 'Komfort fokozat', 'Rezsi költség', 'Hall', 'Minimum bérlési idő', 'Különnyíló szoba', 'Belmagasság', 'Kaució', 'Épület típusa', 'Parkolási lehetőség', 'Min. bérlési idő', 'Erkélyek száma', 'Közös költség', 'Mosógép van', 'Tájolás', 'Emelet', 'Energiatanúsítvány', 'Amerikai konyha', 'Kisállat', 'Dohányzás', 'Lift', 'Fűtés', 'Kábeltévé szolgáltató', 'Épület szintjei', 'Társasház neve', 'Kilátás', 'Kaució hónapokra', 'Melegvíz'}\n"
     ]
    }
   ],
   "source": [
    "import ast\n",
    "extra_keys = set()\n",
    "for i, row in df.iterrows():\n",
    "    extras = ast.literal_eval(row['extra'])\n",
    "    for key in extras.keys():\n",
    "        extra_keys.add(key)\n",
    "\n",
    "print(extra_keys)"
   ]
  },
  {
   "cell_type": "code",
   "execution_count": 49,
   "metadata": {},
   "outputs": [
    {
     "name": "stdout",
     "output_type": "stream",
     "text": [
      "39\n"
     ]
    }
   ],
   "source": [
    "print(len(extra_keys))"
   ]
  },
  {
   "cell_type": "code",
   "execution_count": 51,
   "metadata": {},
   "outputs": [
    {
     "data": {
      "text/html": [
       "<div>\n",
       "<style scoped>\n",
       "    .dataframe tbody tr th:only-of-type {\n",
       "        vertical-align: middle;\n",
       "    }\n",
       "\n",
       "    .dataframe tbody tr th {\n",
       "        vertical-align: top;\n",
       "    }\n",
       "\n",
       "    .dataframe thead th {\n",
       "        text-align: right;\n",
       "    }\n",
       "</style>\n",
       "<table border=\"1\" class=\"dataframe\">\n",
       "  <thead>\n",
       "    <tr style=\"text-align: right;\">\n",
       "      <th></th>\n",
       "      <th>Unnamed: 0</th>\n",
       "      <th>price</th>\n",
       "      <th>location</th>\n",
       "      <th>sqm</th>\n",
       "      <th>extra</th>\n",
       "      <th>text</th>\n",
       "      <th>link</th>\n",
       "      <th>rooms</th>\n",
       "      <th>Épület típusa</th>\n",
       "      <th>Közös költség</th>\n",
       "      <th>...</th>\n",
       "      <th>Hall</th>\n",
       "      <th>Kisállat</th>\n",
       "      <th>Kábeltévé szolgáltató</th>\n",
       "      <th>Kaució</th>\n",
       "      <th>Diákoknak</th>\n",
       "      <th>Hónapokra is</th>\n",
       "      <th>Bérleti díj hónapokra</th>\n",
       "      <th>Kaució hónapokra</th>\n",
       "      <th>Társasház neve</th>\n",
       "      <th>Dohányzás</th>\n",
       "    </tr>\n",
       "  </thead>\n",
       "  <tbody>\n",
       "    <tr>\n",
       "      <th>0</th>\n",
       "      <td>0</td>\n",
       "      <td>330000</td>\n",
       "      <td>Cházár András utca Budapest, XIV. kerület</td>\n",
       "      <td>58</td>\n",
       "      <td>{'Épület típusa': 'Lakás', 'Közös költség': '1...</td>\n",
       "      <td>\\nRészletek\\nXIV. kerületben a Cházár András u...</td>\n",
       "      <td>https://www.alberlet.hu/kiado_alberlet/budapes...</td>\n",
       "      <td>3.0</td>\n",
       "      <td>Lakás</td>\n",
       "      <td>18 000 Ft/hó</td>\n",
       "      <td>...</td>\n",
       "      <td>NaN</td>\n",
       "      <td>NaN</td>\n",
       "      <td>NaN</td>\n",
       "      <td>NaN</td>\n",
       "      <td>NaN</td>\n",
       "      <td>NaN</td>\n",
       "      <td>NaN</td>\n",
       "      <td>NaN</td>\n",
       "      <td>NaN</td>\n",
       "      <td>NaN</td>\n",
       "    </tr>\n",
       "    <tr>\n",
       "      <th>1</th>\n",
       "      <td>1</td>\n",
       "      <td>986000</td>\n",
       "      <td>Nagymező utca Budapest, VI. kerület</td>\n",
       "      <td>97</td>\n",
       "      <td>{'Épület típusa': 'Lakás', 'Közös költség': '1...</td>\n",
       "      <td>\\nRészletek\\nThe 91 sqm apartment consists of ...</td>\n",
       "      <td>https://www.alberlet.hu/kiado_alberlet/budapes...</td>\n",
       "      <td>3.0</td>\n",
       "      <td>Lakás</td>\n",
       "      <td>1 000 Ft/hó</td>\n",
       "      <td>...</td>\n",
       "      <td>NaN</td>\n",
       "      <td>NaN</td>\n",
       "      <td>NaN</td>\n",
       "      <td>NaN</td>\n",
       "      <td>NaN</td>\n",
       "      <td>NaN</td>\n",
       "      <td>NaN</td>\n",
       "      <td>NaN</td>\n",
       "      <td>NaN</td>\n",
       "      <td>NaN</td>\n",
       "    </tr>\n",
       "    <tr>\n",
       "      <th>2</th>\n",
       "      <td>2</td>\n",
       "      <td>651000</td>\n",
       "      <td>Lovas út Budapest, I. kerület</td>\n",
       "      <td>82</td>\n",
       "      <td>{'Épület típusa': 'Lakás', 'Közös költség': '1...</td>\n",
       "      <td>\\nLakás jellemzők: Külön WC, Zuhanyzó Részlete...</td>\n",
       "      <td>https://www.alberlet.hu/kiado_alberlet/budapes...</td>\n",
       "      <td>3.0</td>\n",
       "      <td>Lakás</td>\n",
       "      <td>114 000 Ft/hó</td>\n",
       "      <td>...</td>\n",
       "      <td>NaN</td>\n",
       "      <td>NaN</td>\n",
       "      <td>NaN</td>\n",
       "      <td>NaN</td>\n",
       "      <td>NaN</td>\n",
       "      <td>NaN</td>\n",
       "      <td>NaN</td>\n",
       "      <td>NaN</td>\n",
       "      <td>NaN</td>\n",
       "      <td>NaN</td>\n",
       "    </tr>\n",
       "    <tr>\n",
       "      <th>3</th>\n",
       "      <td>3</td>\n",
       "      <td>1183000</td>\n",
       "      <td>Falk Miksa utca Budapest, V. kerület</td>\n",
       "      <td>105</td>\n",
       "      <td>{'Épület típusa': 'Lakás', 'Városrész': 'Lipót...</td>\n",
       "      <td>\\nLakás jellemzők: Design bútorok Részletek\\nK...</td>\n",
       "      <td>https://www.alberlet.hu/kiado_alberlet/budapes...</td>\n",
       "      <td>2.0</td>\n",
       "      <td>Lakás</td>\n",
       "      <td>50 000 Ft/hó</td>\n",
       "      <td>...</td>\n",
       "      <td>NaN</td>\n",
       "      <td>NaN</td>\n",
       "      <td>NaN</td>\n",
       "      <td>NaN</td>\n",
       "      <td>NaN</td>\n",
       "      <td>NaN</td>\n",
       "      <td>NaN</td>\n",
       "      <td>NaN</td>\n",
       "      <td>NaN</td>\n",
       "      <td>NaN</td>\n",
       "    </tr>\n",
       "    <tr>\n",
       "      <th>4</th>\n",
       "      <td>4</td>\n",
       "      <td>180000</td>\n",
       "      <td>Eötvös utca Budapest, VI. kerület</td>\n",
       "      <td>41</td>\n",
       "      <td>{'Épület típusa': 'Lakás', 'Városrész': 'Külső...</td>\n",
       "      <td>\\nLakás jellemzők: Fürdőkád Részletek\\nVI. ker...</td>\n",
       "      <td>https://www.alberlet.hu/kiado_alberlet/budapes...</td>\n",
       "      <td>1.5</td>\n",
       "      <td>Lakás</td>\n",
       "      <td>15 000 Ft/hó</td>\n",
       "      <td>...</td>\n",
       "      <td>NaN</td>\n",
       "      <td>NaN</td>\n",
       "      <td>NaN</td>\n",
       "      <td>NaN</td>\n",
       "      <td>NaN</td>\n",
       "      <td>NaN</td>\n",
       "      <td>NaN</td>\n",
       "      <td>NaN</td>\n",
       "      <td>NaN</td>\n",
       "      <td>NaN</td>\n",
       "    </tr>\n",
       "  </tbody>\n",
       "</table>\n",
       "<p>5 rows × 47 columns</p>\n",
       "</div>"
      ],
      "text/plain": [
       "   Unnamed: 0    price                                   location  sqm  \\\n",
       "0           0   330000  Cházár András utca Budapest, XIV. kerület   58   \n",
       "1           1   986000        Nagymező utca Budapest, VI. kerület   97   \n",
       "2           2   651000              Lovas út Budapest, I. kerület   82   \n",
       "3           3  1183000       Falk Miksa utca Budapest, V. kerület  105   \n",
       "4           4   180000          Eötvös utca Budapest, VI. kerület   41   \n",
       "\n",
       "                                               extra  \\\n",
       "0  {'Épület típusa': 'Lakás', 'Közös költség': '1...   \n",
       "1  {'Épület típusa': 'Lakás', 'Közös költség': '1...   \n",
       "2  {'Épület típusa': 'Lakás', 'Közös költség': '1...   \n",
       "3  {'Épület típusa': 'Lakás', 'Városrész': 'Lipót...   \n",
       "4  {'Épület típusa': 'Lakás', 'Városrész': 'Külső...   \n",
       "\n",
       "                                                text  \\\n",
       "0  \\nRészletek\\nXIV. kerületben a Cházár András u...   \n",
       "1  \\nRészletek\\nThe 91 sqm apartment consists of ...   \n",
       "2  \\nLakás jellemzők: Külön WC, Zuhanyzó Részlete...   \n",
       "3  \\nLakás jellemzők: Design bútorok Részletek\\nK...   \n",
       "4  \\nLakás jellemzők: Fürdőkád Részletek\\nVI. ker...   \n",
       "\n",
       "                                                link  rooms Épület típusa  \\\n",
       "0  https://www.alberlet.hu/kiado_alberlet/budapes...    3.0         Lakás   \n",
       "1  https://www.alberlet.hu/kiado_alberlet/budapes...    3.0         Lakás   \n",
       "2  https://www.alberlet.hu/kiado_alberlet/budapes...    3.0         Lakás   \n",
       "3  https://www.alberlet.hu/kiado_alberlet/budapes...    2.0         Lakás   \n",
       "4  https://www.alberlet.hu/kiado_alberlet/budapes...    1.5         Lakás   \n",
       "\n",
       "   Közös költség  ... Hall Kisállat Kábeltévé szolgáltató Kaució Diákoknak  \\\n",
       "0   18 000 Ft/hó  ...  NaN      NaN                   NaN    NaN       NaN   \n",
       "1    1 000 Ft/hó  ...  NaN      NaN                   NaN    NaN       NaN   \n",
       "2  114 000 Ft/hó  ...  NaN      NaN                   NaN    NaN       NaN   \n",
       "3   50 000 Ft/hó  ...  NaN      NaN                   NaN    NaN       NaN   \n",
       "4   15 000 Ft/hó  ...  NaN      NaN                   NaN    NaN       NaN   \n",
       "\n",
       "  Hónapokra is Bérleti díj hónapokra Kaució hónapokra Társasház neve Dohányzás  \n",
       "0          NaN                   NaN              NaN            NaN       NaN  \n",
       "1          NaN                   NaN              NaN            NaN       NaN  \n",
       "2          NaN                   NaN              NaN            NaN       NaN  \n",
       "3          NaN                   NaN              NaN            NaN       NaN  \n",
       "4          NaN                   NaN              NaN            NaN       NaN  \n",
       "\n",
       "[5 rows x 47 columns]"
      ]
     },
     "execution_count": 51,
     "metadata": {},
     "output_type": "execute_result"
    }
   ],
   "source": [
    "for index, row in df.iterrows():\n",
    "    extras = ast.literal_eval(row['extra'])\n",
    "    for k, v in extras.items():\n",
    "        df.loc[index, k] = v\n",
    "\n",
    "df.head()"
   ]
  },
  {
   "cell_type": "code",
   "execution_count": 53,
   "metadata": {},
   "outputs": [
    {
     "data": {
      "text/plain": [
       "Unnamed: 0                  0\n",
       "price                       0\n",
       "location                    0\n",
       "sqm                         0\n",
       "extra                       0\n",
       "text                        0\n",
       "link                        0\n",
       "rooms                       0\n",
       "Épület típusa               0\n",
       "Közös költség             199\n",
       "Fűtés                       0\n",
       "Minimum bérlési idő       155\n",
       "Berendezés                  0\n",
       "Emelet                      0\n",
       "Lift                      367\n",
       "Kilátás                     0\n",
       "Erkélyek száma            570\n",
       "Min. bérlési idő          155\n",
       "Energiatanúsítvány          0\n",
       "Ház jellege               479\n",
       "Ingatlan állapota         311\n",
       "Komfort fokozat           244\n",
       "Parkolási lehetőség       369\n",
       "Épület szintjei           273\n",
       "Rezsi költség             470\n",
       "Beköltözhető              478\n",
       "Mosógép van               754\n",
       "Építés éve               1076\n",
       "Melegvíz                  953\n",
       "Konyhai szellőzés         865\n",
       "Tájolás                   908\n",
       "Belmagasság              1134\n",
       "Közös költségben          732\n",
       "Városrész                 494\n",
       "Különnyíló szoba          626\n",
       "Amerikai konyha           885\n",
       "Gyermekbarát             1052\n",
       "Hall                     1188\n",
       "Kisállat                 1068\n",
       "Kábeltévé szolgáltató    1179\n",
       "Kaució                   1115\n",
       "Diákoknak                1191\n",
       "Hónapokra is             1206\n",
       "Bérleti díj hónapokra    1209\n",
       "Kaució hónapokra         1209\n",
       "Társasház neve           1208\n",
       "Dohányzás                1210\n",
       "dtype: int64"
      ]
     },
     "execution_count": 53,
     "metadata": {},
     "output_type": "execute_result"
    }
   ],
   "source": [
    "df.isna().sum()"
   ]
  },
  {
   "cell_type": "code",
   "execution_count": 56,
   "metadata": {},
   "outputs": [
    {
     "data": {
      "text/plain": [
       "array(['Házközp. mérőórával', 'Gázkazán', 'Cirkó', 'Házközponti',\n",
       "       'Fan-coil', 'Gáz, konvektor', 'Távfűtés mérőórával', 'Távfűtés',\n",
       "       'Mennyezeti hűtés-fűtés', 'Hőszivattyú', 'Padlófűtés',\n",
       "       'Villany, Nobo panel', 'Elektromos', 'Klíma', 'Falfűtés', 'Egyéb',\n",
       "       'Villany, olajradiátor', 'Cserépkályha', 'Megújuló energia',\n",
       "       'Gáz, MIKA kazán', 'Egyéb kazán', 'Villany, infrapanel',\n",
       "       'Gáz, héra'], dtype=object)"
      ]
     },
     "execution_count": 56,
     "metadata": {},
     "output_type": "execute_result"
    }
   ],
   "source": [
    "df['Fűtés'].unique()"
   ]
  },
  {
   "cell_type": "code",
   "execution_count": 58,
   "metadata": {},
   "outputs": [
    {
     "data": {
      "text/plain": [
       "array(['18 000 Ft/hó', '1 000 Ft/hó', '114 000 Ft/hó', '50 000 Ft/hó',\n",
       "       '15 000 Ft/hó', '30 000 Ft/hó', '99 000 Ft/hó', '36 000 Ft/hó',\n",
       "       '45 000 Ft/hó', '16 000 Ft/hó', '21 000 Ft/hó', '29 000 Ft/hó',\n",
       "       '9 000 Ft/hó', '20 000 Ft/hó', nan, '22 000 Ft/hó', '40 000 Ft/hó',\n",
       "       '80 000 Ft/hó', '10 000 Ft/hó', '28 000 Ft/hó', '25 000 Ft/hó',\n",
       "       '23 000 Ft/hó', '13 000 Ft/hó', '27 000 Ft/hó', '17 000 Ft/hó',\n",
       "       '38 000 Ft/hó', '26 000 Ft/hó', '12 000 Ft/hó', '55 000 Ft/hó',\n",
       "       '8 000 Ft/hó', '52 000 Ft/hó', '35 000 Ft/hó', '32 000 Ft/hó',\n",
       "       '60 000 Ft/hó', '14 000 Ft/hó', '19 000 Ft/hó', '34 000 Ft/hó',\n",
       "       '43 000 Ft/hó', '5 000 Ft/hó', '11 000 Ft/hó', '37 000 Ft/hó',\n",
       "       '33 000 Ft/hó', '49 000 Ft/hó', '42 000 Ft/hó', '48 000 Ft/hó',\n",
       "       '39 000 Ft/hó', '24 000 Ft/hó', '3 000 Ft/hó', '47 000 Ft/hó',\n",
       "       '120 000 Ft/hó', '90 000 Ft/hó', '86 000 Ft/hó', '44 000 Ft/hó',\n",
       "       '4 000 Ft/hó', '68 000 Ft/hó', '78 000 Ft/hó', '200 000 Ft/hó',\n",
       "       '65 000 Ft/hó', '70 000 Ft/hó', '31 000 Ft/hó', '41 000 Ft/hó',\n",
       "       '7 000 Ft/hó', '53 000 Ft/hó', '110 000 Ft/hó', '63 000 Ft/hó',\n",
       "       '150 000 Ft/hó', '188 000 Ft/hó', '61 000 Ft/hó', '6 000 Ft/hó',\n",
       "       '54 000 Ft/hó', '127 000 Ft/hó', '2 000 Ft/hó', '59 000 Ft/hó',\n",
       "       '160 000 Ft/hó', '57 000 Ft/hó', '76 000 Ft/hó'], dtype=object)"
      ]
     },
     "execution_count": 58,
     "metadata": {},
     "output_type": "execute_result"
    }
   ],
   "source": [
    "df['Közös költség'].unique()"
   ]
  },
  {
   "cell_type": "code",
   "execution_count": 59,
   "metadata": {},
   "outputs": [
    {
     "data": {
      "text/plain": [
       "array(['Berendezett, gépesített', 'Luxus', 'Üres, gépesített',\n",
       "       'Részben berendezett, gépesített', 'Üres, berendezve is',\n",
       "       'Részben berendezett', 'Üres', 'Berendezett, IKEA, KIKA',\n",
       "       'Berendezett, üresen is', 'Berendezett, új bútorok',\n",
       "       'Berendezett, lakberendező által', 'Berendezett, nem gépesített'],\n",
       "      dtype=object)"
      ]
     },
     "execution_count": 59,
     "metadata": {},
     "output_type": "execute_result"
    }
   ],
   "source": [
    "df['Berendezés'].unique()"
   ]
  },
  {
   "cell_type": "code",
   "execution_count": 64,
   "metadata": {},
   "outputs": [
    {
     "data": {
      "text/plain": [
       "array(['4', '3', 'Félemelet', '1', '5', '6', '7', '2', 'Földszint',\n",
       "       'Magasföldszint', '9', '10', 'Szuterén', '8', 'Félszuterén',\n",
       "       'Több mint 10', 'Tetőtér'], dtype=object)"
      ]
     },
     "execution_count": 64,
     "metadata": {},
     "output_type": "execute_result"
    }
   ],
   "source": [
    "df['Emelet'].unique()"
   ]
  },
  {
   "cell_type": "code",
   "execution_count": 61,
   "metadata": {},
   "outputs": [
    {
     "data": {
      "text/plain": [
       "array(['Utcai', 'Tetőkre néző', 'Panorámás', 'Utcai és udvari',\n",
       "       'Udvari, világos', 'Utcai, világos', 'Városi panoráma',\n",
       "       'Kertre néző', 'Utcai, csendes', 'Hegyvidéki panoráma', 'Udvari',\n",
       "       'Térre néző', 'Parkra néző', 'Dunai', 'Udvari, nem világos',\n",
       "       'Utcai, forgalmas'], dtype=object)"
      ]
     },
     "execution_count": 61,
     "metadata": {},
     "output_type": "execute_result"
    }
   ],
   "source": [
    "df['Kilátás'].unique()"
   ]
  },
  {
   "cell_type": "code",
   "execution_count": 62,
   "metadata": {},
   "outputs": [
    {
     "data": {
      "text/plain": [
       "array(['Kiváló', nan, 'Jó', 'Felújított', 'Átlagos', 'Felújításra szorul',\n",
       "       'Részben felújított'], dtype=object)"
      ]
     },
     "execution_count": 62,
     "metadata": {},
     "output_type": "execute_result"
    }
   ],
   "source": [
    "df['Ingatlan állapota'].unique()"
   ]
  },
  {
   "cell_type": "code",
   "execution_count": 63,
   "metadata": {},
   "outputs": [
    {
     "data": {
      "text/plain": [
       "array(['Összkomfortos', nan, 'Duplakomfortos', 'Komfortos',\n",
       "       'Triplakomfortos'], dtype=object)"
      ]
     },
     "execution_count": 63,
     "metadata": {},
     "output_type": "execute_result"
    }
   ],
   "source": [
    "df['Komfort fokozat'].unique()"
   ]
  },
  {
   "cell_type": "code",
   "execution_count": 65,
   "metadata": {},
   "outputs": [
    {
     "data": {
      "text/plain": [
       "array(['Van', nan], dtype=object)"
      ]
     },
     "execution_count": 65,
     "metadata": {},
     "output_type": "execute_result"
    }
   ],
   "source": [
    "df['Lift'].unique()"
   ]
  },
  {
   "cell_type": "code",
   "execution_count": 66,
   "metadata": {},
   "outputs": [],
   "source": [
    "df.to_csv('clean_fullos_db.csv')"
   ]
  },
  {
   "cell_type": "code",
   "execution_count": 67,
   "metadata": {},
   "outputs": [
    {
     "name": "stdout",
     "output_type": "stream",
     "text": [
      "<class 'pandas.core.frame.DataFrame'>\n",
      "RangeIndex: 1214 entries, 0 to 1213\n",
      "Data columns (total 47 columns):\n",
      " #   Column                 Non-Null Count  Dtype  \n",
      "---  ------                 --------------  -----  \n",
      " 0   Unnamed: 0             1214 non-null   int64  \n",
      " 1   price                  1214 non-null   int64  \n",
      " 2   location               1214 non-null   object \n",
      " 3   sqm                    1214 non-null   int64  \n",
      " 4   extra                  1214 non-null   object \n",
      " 5   text                   1214 non-null   object \n",
      " 6   link                   1214 non-null   object \n",
      " 7   rooms                  1214 non-null   float64\n",
      " 8   Épület típusa          1214 non-null   object \n",
      " 9   Közös költség          1015 non-null   object \n",
      " 10  Fűtés                  1214 non-null   object \n",
      " 11  Minimum bérlési idő    1059 non-null   object \n",
      " 12  Berendezés             1214 non-null   object \n",
      " 13  Emelet                 1214 non-null   object \n",
      " 14  Lift                   847 non-null    object \n",
      " 15  Kilátás                1214 non-null   object \n",
      " 16  Erkélyek száma         644 non-null    object \n",
      " 17  Min. bérlési idő       1059 non-null   object \n",
      " 18  Energiatanúsítvány     1214 non-null   object \n",
      " 19  Ház jellege            735 non-null    object \n",
      " 20  Ingatlan állapota      903 non-null    object \n",
      " 21  Komfort fokozat        970 non-null    object \n",
      " 22  Parkolási lehetőség    845 non-null    object \n",
      " 23  Épület szintjei        941 non-null    object \n",
      " 24  Rezsi költség          744 non-null    object \n",
      " 25  Beköltözhető           736 non-null    object \n",
      " 26  Mosógép van            460 non-null    object \n",
      " 27  Építés éve             138 non-null    object \n",
      " 28  Melegvíz               261 non-null    object \n",
      " 29  Konyhai szellőzés      349 non-null    object \n",
      " 30  Tájolás                306 non-null    object \n",
      " 31  Belmagasság            80 non-null     object \n",
      " 32  Közös költségben       482 non-null    object \n",
      " 33  Városrész              720 non-null    object \n",
      " 34  Különnyíló szoba       588 non-null    object \n",
      " 35  Amerikai konyha        329 non-null    object \n",
      " 36  Gyermekbarát           162 non-null    object \n",
      " 37  Hall                   26 non-null     object \n",
      " 38  Kisállat               146 non-null    object \n",
      " 39  Kábeltévé szolgáltató  35 non-null     object \n",
      " 40  Kaució                 99 non-null     object \n",
      " 41  Diákoknak              23 non-null     object \n",
      " 42  Hónapokra is           8 non-null      object \n",
      " 43  Bérleti díj hónapokra  5 non-null      object \n",
      " 44  Kaució hónapokra       5 non-null      object \n",
      " 45  Társasház neve         6 non-null      object \n",
      " 46  Dohányzás              4 non-null      object \n",
      "dtypes: float64(1), int64(3), object(43)\n",
      "memory usage: 445.9+ KB\n"
     ]
    }
   ],
   "source": [
    "df.info()"
   ]
  },
  {
   "cell_type": "code",
   "execution_count": null,
   "metadata": {},
   "outputs": [],
   "source": []
  }
 ],
 "metadata": {
  "kernelspec": {
   "display_name": "venv",
   "language": "python",
   "name": "python3"
  },
  "language_info": {
   "codemirror_mode": {
    "name": "ipython",
    "version": 3
   },
   "file_extension": ".py",
   "mimetype": "text/x-python",
   "name": "python",
   "nbconvert_exporter": "python",
   "pygments_lexer": "ipython3",
   "version": "3.12.3"
  }
 },
 "nbformat": 4,
 "nbformat_minor": 2
}
